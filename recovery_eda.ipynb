{
 "cells": [
  {
   "cell_type": "markdown",
   "id": "7d568818",
   "metadata": {},
   "source": [
    "## Recovery Status Data"
   ]
  },
  {
   "cell_type": "code",
   "execution_count": null,
   "id": "645ae9cd",
   "metadata": {},
   "outputs": [],
   "source": [
    "import pandas as pd"
   ]
  },
  {
   "cell_type": "code",
   "execution_count": null,
   "id": "b3589dfc",
   "metadata": {},
   "outputs": [],
   "source": [
    "recovery_status_data = pd.read_csv('data/CFC Recovery status Data (1).csv')"
   ]
  },
  {
   "cell_type": "code",
   "execution_count": null,
   "id": "0c5b0dbd",
   "metadata": {},
   "outputs": [],
   "source": [
    "recovery_status_data.head()"
   ]
  },
  {
   "cell_type": "code",
   "execution_count": null,
   "id": "268dce12",
   "metadata": {},
   "outputs": [],
   "source": [
    "recovery_status_data.tail()"
   ]
  }
 ],
 "metadata": {
  "kernelspec": {
   "display_name": "thomas_env",
   "language": "python",
   "name": "python3"
  },
  "language_info": {
   "codemirror_mode": {
    "name": "ipython",
    "version": 3
   },
   "file_extension": ".py",
   "mimetype": "text/x-python",
   "name": "python",
   "nbconvert_exporter": "python",
   "pygments_lexer": "ipython3",
   "version": "3.12.9"
  }
 },
 "nbformat": 4,
 "nbformat_minor": 5
}
