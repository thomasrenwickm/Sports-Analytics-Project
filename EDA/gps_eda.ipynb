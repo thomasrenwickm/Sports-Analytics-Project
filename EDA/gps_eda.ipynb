{
 "cells": [
  {
   "cell_type": "markdown",
   "id": "cc585a9a",
   "metadata": {},
   "source": [
    "# **GPS Data - Exploratory Data Analysis**"
   ]
  },
  {
   "cell_type": "markdown",
   "id": "87fe6d80",
   "metadata": {},
   "source": [
    "*GPS performance metrics track movement demands, including speed, distance, and acceleration, to assess workload and physical output.\n",
    "This dataset contains simulated data for 1 player.*"
   ]
  },
  {
   "cell_type": "markdown",
   "id": "08fc88c0",
   "metadata": {},
   "source": [
    "This notebook is organized in the following sections:\n",
    "\n",
    "* [Part 0 - Preliminary Steps](#0)\n",
    "    * [Part 0.1 - Importing the Necessary Libraries](#0.1)\n",
    "    * [Part 0.2 - Reading the GPS Data Dataset](#0.2)\n",
    "\n",
    "* [Part 1 - Data Cleaning](#1)\n",
    "    * [Part 1.1 - Preliminary Analysis of the Dataset](#1.1)\n",
    "    * [Part 1.2 - Dealing with Duplicates](#1.2)\n",
    "    * [Part 1.3 - Ensuring Correct Data Types](#1.3)\n",
    "    * [Part 1.4 - Dealing with Null/Missing Values](#1.4)\n",
    "    * [Part 1.5 - Creating New Columns to Enhance the Analysis](#1.5)\n",
    "    * [Part 1.6 - Final Checks](#1.6)\n",
    "\n",
    "* [Part 2 - Exploratory Data Analysis](#2)"
   ]
  },
  {
   "cell_type": "markdown",
   "id": "f65de828",
   "metadata": {},
   "source": [
    "<a id='0'></a>\n",
    "## Part 0 - Preliminary Steps"
   ]
  },
  {
   "cell_type": "markdown",
   "id": "388b5dce",
   "metadata": {},
   "source": [
    "<a id='0.1'></a>\n",
    "### Part 0.1 - Importing the Necessary Libraries"
   ]
  },
  {
   "cell_type": "code",
   "execution_count": null,
   "id": "910749bd",
   "metadata": {},
   "outputs": [],
   "source": [
    "import pandas as pd"
   ]
  },
  {
   "cell_type": "markdown",
   "id": "29172dbe",
   "metadata": {},
   "source": [
    "<a id='0.2'></a>\n",
    "### Part 0.2 - Reading the GPS Data Dataset"
   ]
  },
  {
   "cell_type": "code",
   "execution_count": null,
   "id": "f8efbf98",
   "metadata": {},
   "outputs": [],
   "source": [
    "gps_data = pd.read_csv('../data/CFC GPS Data (1).csv', encoding='ISO-8859-1')"
   ]
  },
  {
   "cell_type": "markdown",
   "id": "1d033b2a",
   "metadata": {},
   "source": [
    "<a id='1'></a>\n",
    "## Part 1 - Data Cleaning"
   ]
  },
  {
   "cell_type": "markdown",
   "id": "4225269f",
   "metadata": {},
   "source": [
    "<a id='1.1'></a>\n",
    "### Part 1.1 - Preliminary Analysis of the Dataset"
   ]
  },
  {
   "cell_type": "code",
   "execution_count": null,
   "id": "b91c9384",
   "metadata": {},
   "outputs": [],
   "source": [
    "gps_data.head()"
   ]
  },
  {
   "cell_type": "code",
   "execution_count": null,
   "id": "2783c352",
   "metadata": {},
   "outputs": [],
   "source": [
    "gps_data.tail()"
   ]
  },
  {
   "cell_type": "markdown",
   "id": "2298f3bd",
   "metadata": {},
   "source": [
    "The GPS Data dataset has 826 rows, with only 2 columns which have null values."
   ]
  },
  {
   "cell_type": "code",
   "execution_count": null,
   "id": "ae6e4862",
   "metadata": {},
   "outputs": [],
   "source": [
    "gps_data.info()"
   ]
  },
  {
   "cell_type": "markdown",
   "id": "a0119f7d",
   "metadata": {},
   "source": [
    "<a id='1.2'></a>\n",
    "### Part 1.2 - Dealing with Duplicates"
   ]
  },
  {
   "cell_type": "markdown",
   "id": "6a516cf9",
   "metadata": {},
   "source": [
    "We checked if there were any duplicate rows. We found there were no duplicate rows."
   ]
  },
  {
   "cell_type": "code",
   "execution_count": null,
   "id": "b6bd3564",
   "metadata": {},
   "outputs": [],
   "source": [
    "gps_data.duplicated().any()"
   ]
  },
  {
   "cell_type": "code",
   "execution_count": null,
   "id": "95013d53",
   "metadata": {},
   "outputs": [],
   "source": [
    "# Another check for duplicates - just in case\n",
    "gps_data.duplicated().sum()"
   ]
  },
  {
   "cell_type": "markdown",
   "id": "38da4551",
   "metadata": {},
   "source": [
    "<a id='1.3'></a>\n",
    "### Part 1.3 - Ensuring Correct Data Types"
   ]
  },
  {
   "cell_type": "markdown",
   "id": "1a735038",
   "metadata": {},
   "source": [
    "Next, we proceeded to ensure whether the data types of all columns were correct/adequate"
   ]
  },
  {
   "cell_type": "code",
   "execution_count": null,
   "id": "6a13db56",
   "metadata": {},
   "outputs": [],
   "source": [
    "gps_data.head()"
   ]
  },
  {
   "cell_type": "code",
   "execution_count": null,
   "id": "ce56b2b0",
   "metadata": {},
   "outputs": [],
   "source": [
    "gps_data.dtypes"
   ]
  },
  {
   "cell_type": "markdown",
   "id": "f7ac1347",
   "metadata": {},
   "source": [
    "The columns which had incorrect data types were the following:\n",
    "* date --> should have been in datetime format (%d/%m/%Y)\n",
    "* hr_zone_1_hms --> should have been in datetime format (%H:%M:%S)\n",
    "* hr_zone_2_hms --> should have been in datetime format (%H:%M:%S)\n",
    "* hr_zone_3_hms --> should have been in datetime format (%H:%M:%S)\n",
    "* hr_zone_4_hms --> should have been in datetime format (%H:%M:%S)\n",
    "* hr_zone_5_hms --> should have been in datetime format (%H:%M:%S)\n",
    "\n",
    "\n",
    "\n",
    "\n",
    "we proceeded to transform it to the correct format --> datetime type"
   ]
  },
  {
   "cell_type": "code",
   "execution_count": null,
   "id": "3a2c1e8c",
   "metadata": {},
   "outputs": [],
   "source": [
    "gps_data['date'] = pd.to_datetime(gps_data['date'], format = '%d/%m/%Y')"
   ]
  },
  {
   "cell_type": "markdown",
   "id": "95ba99ec",
   "metadata": {},
   "source": [
    "<a id='1.4'></a>\n",
    "### Part 1.4 - Dealing with Null/Missing Values"
   ]
  },
  {
   "cell_type": "code",
   "execution_count": null,
   "id": "b9ce2829",
   "metadata": {},
   "outputs": [],
   "source": []
  },
  {
   "cell_type": "markdown",
   "id": "061e8689",
   "metadata": {},
   "source": [
    "<a id='1.5'></a>\n",
    "### Part 1.5 - Creating New Columns to Enhance the Analysis"
   ]
  },
  {
   "cell_type": "code",
   "execution_count": null,
   "id": "82d5774a",
   "metadata": {},
   "outputs": [],
   "source": []
  },
  {
   "cell_type": "markdown",
   "id": "52c5d207",
   "metadata": {},
   "source": [
    "<a id='1.6'></a>\n",
    "### Part 1.6 - Final Checks"
   ]
  },
  {
   "cell_type": "code",
   "execution_count": null,
   "id": "6afcee87",
   "metadata": {},
   "outputs": [],
   "source": []
  },
  {
   "cell_type": "markdown",
   "id": "90c5aeee",
   "metadata": {},
   "source": [
    "<a id='2'></a>\n",
    "## Part 2 - Exploratory Data Analysis"
   ]
  },
  {
   "cell_type": "code",
   "execution_count": null,
   "id": "a58bfe91",
   "metadata": {},
   "outputs": [],
   "source": []
  }
 ],
 "metadata": {
  "kernelspec": {
   "display_name": "thomas_env",
   "language": "python",
   "name": "python3"
  },
  "language_info": {
   "codemirror_mode": {
    "name": "ipython",
    "version": 3
   },
   "file_extension": ".py",
   "mimetype": "text/x-python",
   "name": "python",
   "nbconvert_exporter": "python",
   "pygments_lexer": "ipython3",
   "version": "3.12.9"
  }
 },
 "nbformat": 4,
 "nbformat_minor": 5
}
