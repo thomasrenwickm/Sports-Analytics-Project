{
 "cells": [
  {
   "cell_type": "markdown",
   "id": "7d568818",
   "metadata": {},
   "source": [
    "# **Recovery Status Data - Exploratory Data Analysis**"
   ]
  },
  {
   "cell_type": "markdown",
   "id": "9cd7a8e1",
   "metadata": {},
   "source": [
    "*Recovery status is measured using several tests and metrics to inform recovery strategies throughout the season.\n",
    "This dataset contains simulated data for 1 player.*"
   ]
  },
  {
   "cell_type": "markdown",
   "id": "f5af9c27",
   "metadata": {},
   "source": [
    "This notebook is organized in the following sections:\n",
    "\n",
    "* [Part 0 - Preliminary Steps](#0)\n",
    "    * [Part 0.1 - Importing the Necessary Libraries](#0.1)\n",
    "    * [Part 0.2 - Reading the Recovery Status Data Dataset](#0.2)\n",
    "\n",
    "* [Part 1 - Data Cleaning](#1)\n",
    "    * [Part 1.1 - Preliminary Analysis of the Dataset](#1.1)\n",
    "    * [Part 1.2 - Dealing with Duplicates](#1.2)\n",
    "    * [Part 1.3 - Ensuring Correct Data Types](#1.3)\n",
    "    * [Part 1.4 - Dealing with Null/Missing Values](#1.4)\n",
    "    * [Part 1.5 - Final Checks](#1.5)\n",
    "\n",
    "* [Part 2 - Exploratory Data Analysis](#2)"
   ]
  },
  {
   "cell_type": "markdown",
   "id": "574b9006",
   "metadata": {},
   "source": [
    "<a id='0'></a>\n",
    "## Part 0 - Preliminary Steps"
   ]
  },
  {
   "cell_type": "markdown",
   "id": "0012923f",
   "metadata": {},
   "source": [
    "<a id='0.1'></a>\n",
    "### Part 0.1 - Importing the Necessary Libraries"
   ]
  },
  {
   "cell_type": "code",
   "execution_count": 1,
   "id": "645ae9cd",
   "metadata": {},
   "outputs": [],
   "source": [
    "import pandas as pd"
   ]
  },
  {
   "cell_type": "markdown",
   "id": "c4568901",
   "metadata": {},
   "source": [
    "<a id='0.2'></a>\n",
    "### Part 0.2 - Reading the Recovery Status Data Dataset"
   ]
  },
  {
   "cell_type": "code",
   "execution_count": 2,
   "id": "b3589dfc",
   "metadata": {},
   "outputs": [],
   "source": [
    "recovery_status_data = pd.read_csv('../data/CFC Recovery status Data (1).csv')"
   ]
  },
  {
   "cell_type": "markdown",
   "id": "74f1bbe7",
   "metadata": {},
   "source": [
    "<a id='1'></a>\n",
    "## Part 1 - Data Cleaning"
   ]
  },
  {
   "cell_type": "markdown",
   "id": "1932f78e",
   "metadata": {},
   "source": [
    "<a id='1.1'></a>\n",
    "### Part 1.1 - Preliminary Analysis of the Dataset"
   ]
  },
  {
   "cell_type": "markdown",
   "id": "1a4fadba",
   "metadata": {},
   "source": [
    "Each row represents a category with an associated metric, except for rows with the `emboss_baseline_score` (it is a pre-calculated aggregated “total” category that represents the overall recovery score). Therefore for each day there are 13 rows, as there are 6 categories, 2 metrics as well as the overall recovery score."
   ]
  },
  {
   "cell_type": "code",
   "execution_count": null,
   "id": "ed73925b",
   "metadata": {},
   "outputs": [],
   "source": [
    "#Note for self --> in feature engineering can create a new row from the metric row that just has the values completeness and composite."
   ]
  },
  {
   "cell_type": "code",
   "execution_count": 6,
   "id": "0c5b0dbd",
   "metadata": {},
   "outputs": [
    {
     "data": {
      "text/html": [
       "<div>\n",
       "<style scoped>\n",
       "    .dataframe tbody tr th:only-of-type {\n",
       "        vertical-align: middle;\n",
       "    }\n",
       "\n",
       "    .dataframe tbody tr th {\n",
       "        vertical-align: top;\n",
       "    }\n",
       "\n",
       "    .dataframe thead th {\n",
       "        text-align: right;\n",
       "    }\n",
       "</style>\n",
       "<table border=\"1\" class=\"dataframe\">\n",
       "  <thead>\n",
       "    <tr style=\"text-align: right;\">\n",
       "      <th></th>\n",
       "      <th>sessionDate</th>\n",
       "      <th>seasonName</th>\n",
       "      <th>metric</th>\n",
       "      <th>category</th>\n",
       "      <th>value</th>\n",
       "    </tr>\n",
       "  </thead>\n",
       "  <tbody>\n",
       "    <tr>\n",
       "      <th>0</th>\n",
       "      <td>02/07/2023</td>\n",
       "      <td>2023/2024</td>\n",
       "      <td>bio_baseline_completeness</td>\n",
       "      <td>bio</td>\n",
       "      <td>0.0</td>\n",
       "    </tr>\n",
       "    <tr>\n",
       "      <th>1</th>\n",
       "      <td>02/07/2023</td>\n",
       "      <td>2023/2024</td>\n",
       "      <td>bio_baseline_composite</td>\n",
       "      <td>bio</td>\n",
       "      <td>NaN</td>\n",
       "    </tr>\n",
       "    <tr>\n",
       "      <th>2</th>\n",
       "      <td>02/07/2023</td>\n",
       "      <td>2023/2024</td>\n",
       "      <td>emboss_baseline_score</td>\n",
       "      <td>total</td>\n",
       "      <td>NaN</td>\n",
       "    </tr>\n",
       "    <tr>\n",
       "      <th>3</th>\n",
       "      <td>02/07/2023</td>\n",
       "      <td>2023/2024</td>\n",
       "      <td>msk_joint_range_baseline_completeness</td>\n",
       "      <td>msk_joint_range</td>\n",
       "      <td>0.0</td>\n",
       "    </tr>\n",
       "    <tr>\n",
       "      <th>4</th>\n",
       "      <td>02/07/2023</td>\n",
       "      <td>2023/2024</td>\n",
       "      <td>msk_joint_range_baseline_composite</td>\n",
       "      <td>msk_joint_range</td>\n",
       "      <td>NaN</td>\n",
       "    </tr>\n",
       "    <tr>\n",
       "      <th>5</th>\n",
       "      <td>02/07/2023</td>\n",
       "      <td>2023/2024</td>\n",
       "      <td>msk_load_tolerance_baseline_completeness</td>\n",
       "      <td>msk_load_tolerance</td>\n",
       "      <td>0.0</td>\n",
       "    </tr>\n",
       "    <tr>\n",
       "      <th>6</th>\n",
       "      <td>02/07/2023</td>\n",
       "      <td>2023/2024</td>\n",
       "      <td>msk_load_tolerance_baseline_composite</td>\n",
       "      <td>msk_load_tolerance</td>\n",
       "      <td>NaN</td>\n",
       "    </tr>\n",
       "    <tr>\n",
       "      <th>7</th>\n",
       "      <td>02/07/2023</td>\n",
       "      <td>2023/2024</td>\n",
       "      <td>sleep_baseline_completeness</td>\n",
       "      <td>sleep</td>\n",
       "      <td>0.0</td>\n",
       "    </tr>\n",
       "    <tr>\n",
       "      <th>8</th>\n",
       "      <td>02/07/2023</td>\n",
       "      <td>2023/2024</td>\n",
       "      <td>sleep_baseline_composite</td>\n",
       "      <td>sleep</td>\n",
       "      <td>NaN</td>\n",
       "    </tr>\n",
       "    <tr>\n",
       "      <th>9</th>\n",
       "      <td>02/07/2023</td>\n",
       "      <td>2023/2024</td>\n",
       "      <td>soreness_baseline_completeness</td>\n",
       "      <td>soreness</td>\n",
       "      <td>0.0</td>\n",
       "    </tr>\n",
       "    <tr>\n",
       "      <th>10</th>\n",
       "      <td>02/07/2023</td>\n",
       "      <td>2023/2024</td>\n",
       "      <td>soreness_baseline_composite</td>\n",
       "      <td>soreness</td>\n",
       "      <td>NaN</td>\n",
       "    </tr>\n",
       "    <tr>\n",
       "      <th>11</th>\n",
       "      <td>02/07/2023</td>\n",
       "      <td>2023/2024</td>\n",
       "      <td>subjective_baseline_completeness</td>\n",
       "      <td>subjective</td>\n",
       "      <td>0.0</td>\n",
       "    </tr>\n",
       "    <tr>\n",
       "      <th>12</th>\n",
       "      <td>02/07/2023</td>\n",
       "      <td>2023/2024</td>\n",
       "      <td>subjective_baseline_composite</td>\n",
       "      <td>subjective</td>\n",
       "      <td>NaN</td>\n",
       "    </tr>\n",
       "    <tr>\n",
       "      <th>13</th>\n",
       "      <td>03/07/2023</td>\n",
       "      <td>2023/2024</td>\n",
       "      <td>bio_baseline_completeness</td>\n",
       "      <td>bio</td>\n",
       "      <td>0.0</td>\n",
       "    </tr>\n",
       "    <tr>\n",
       "      <th>14</th>\n",
       "      <td>03/07/2023</td>\n",
       "      <td>2023/2024</td>\n",
       "      <td>bio_baseline_composite</td>\n",
       "      <td>bio</td>\n",
       "      <td>NaN</td>\n",
       "    </tr>\n",
       "    <tr>\n",
       "      <th>15</th>\n",
       "      <td>03/07/2023</td>\n",
       "      <td>2023/2024</td>\n",
       "      <td>emboss_baseline_score</td>\n",
       "      <td>total</td>\n",
       "      <td>NaN</td>\n",
       "    </tr>\n",
       "    <tr>\n",
       "      <th>16</th>\n",
       "      <td>03/07/2023</td>\n",
       "      <td>2023/2024</td>\n",
       "      <td>msk_joint_range_baseline_completeness</td>\n",
       "      <td>msk_joint_range</td>\n",
       "      <td>0.0</td>\n",
       "    </tr>\n",
       "    <tr>\n",
       "      <th>17</th>\n",
       "      <td>03/07/2023</td>\n",
       "      <td>2023/2024</td>\n",
       "      <td>msk_joint_range_baseline_composite</td>\n",
       "      <td>msk_joint_range</td>\n",
       "      <td>NaN</td>\n",
       "    </tr>\n",
       "    <tr>\n",
       "      <th>18</th>\n",
       "      <td>03/07/2023</td>\n",
       "      <td>2023/2024</td>\n",
       "      <td>msk_load_tolerance_baseline_completeness</td>\n",
       "      <td>msk_load_tolerance</td>\n",
       "      <td>0.0</td>\n",
       "    </tr>\n",
       "    <tr>\n",
       "      <th>19</th>\n",
       "      <td>03/07/2023</td>\n",
       "      <td>2023/2024</td>\n",
       "      <td>msk_load_tolerance_baseline_composite</td>\n",
       "      <td>msk_load_tolerance</td>\n",
       "      <td>NaN</td>\n",
       "    </tr>\n",
       "    <tr>\n",
       "      <th>20</th>\n",
       "      <td>03/07/2023</td>\n",
       "      <td>2023/2024</td>\n",
       "      <td>sleep_baseline_completeness</td>\n",
       "      <td>sleep</td>\n",
       "      <td>0.0</td>\n",
       "    </tr>\n",
       "    <tr>\n",
       "      <th>21</th>\n",
       "      <td>03/07/2023</td>\n",
       "      <td>2023/2024</td>\n",
       "      <td>sleep_baseline_composite</td>\n",
       "      <td>sleep</td>\n",
       "      <td>NaN</td>\n",
       "    </tr>\n",
       "    <tr>\n",
       "      <th>22</th>\n",
       "      <td>03/07/2023</td>\n",
       "      <td>2023/2024</td>\n",
       "      <td>soreness_baseline_completeness</td>\n",
       "      <td>soreness</td>\n",
       "      <td>0.0</td>\n",
       "    </tr>\n",
       "    <tr>\n",
       "      <th>23</th>\n",
       "      <td>03/07/2023</td>\n",
       "      <td>2023/2024</td>\n",
       "      <td>soreness_baseline_composite</td>\n",
       "      <td>soreness</td>\n",
       "      <td>NaN</td>\n",
       "    </tr>\n",
       "  </tbody>\n",
       "</table>\n",
       "</div>"
      ],
      "text/plain": [
       "   sessionDate seasonName                                    metric  \\\n",
       "0   02/07/2023  2023/2024                 bio_baseline_completeness   \n",
       "1   02/07/2023  2023/2024                    bio_baseline_composite   \n",
       "2   02/07/2023  2023/2024                     emboss_baseline_score   \n",
       "3   02/07/2023  2023/2024     msk_joint_range_baseline_completeness   \n",
       "4   02/07/2023  2023/2024        msk_joint_range_baseline_composite   \n",
       "5   02/07/2023  2023/2024  msk_load_tolerance_baseline_completeness   \n",
       "6   02/07/2023  2023/2024     msk_load_tolerance_baseline_composite   \n",
       "7   02/07/2023  2023/2024               sleep_baseline_completeness   \n",
       "8   02/07/2023  2023/2024                  sleep_baseline_composite   \n",
       "9   02/07/2023  2023/2024            soreness_baseline_completeness   \n",
       "10  02/07/2023  2023/2024               soreness_baseline_composite   \n",
       "11  02/07/2023  2023/2024          subjective_baseline_completeness   \n",
       "12  02/07/2023  2023/2024             subjective_baseline_composite   \n",
       "13  03/07/2023  2023/2024                 bio_baseline_completeness   \n",
       "14  03/07/2023  2023/2024                    bio_baseline_composite   \n",
       "15  03/07/2023  2023/2024                     emboss_baseline_score   \n",
       "16  03/07/2023  2023/2024     msk_joint_range_baseline_completeness   \n",
       "17  03/07/2023  2023/2024        msk_joint_range_baseline_composite   \n",
       "18  03/07/2023  2023/2024  msk_load_tolerance_baseline_completeness   \n",
       "19  03/07/2023  2023/2024     msk_load_tolerance_baseline_composite   \n",
       "20  03/07/2023  2023/2024               sleep_baseline_completeness   \n",
       "21  03/07/2023  2023/2024                  sleep_baseline_composite   \n",
       "22  03/07/2023  2023/2024            soreness_baseline_completeness   \n",
       "23  03/07/2023  2023/2024               soreness_baseline_composite   \n",
       "\n",
       "              category  value  \n",
       "0                  bio    0.0  \n",
       "1                  bio    NaN  \n",
       "2                total    NaN  \n",
       "3      msk_joint_range    0.0  \n",
       "4      msk_joint_range    NaN  \n",
       "5   msk_load_tolerance    0.0  \n",
       "6   msk_load_tolerance    NaN  \n",
       "7                sleep    0.0  \n",
       "8                sleep    NaN  \n",
       "9             soreness    0.0  \n",
       "10            soreness    NaN  \n",
       "11          subjective    0.0  \n",
       "12          subjective    NaN  \n",
       "13                 bio    0.0  \n",
       "14                 bio    NaN  \n",
       "15               total    NaN  \n",
       "16     msk_joint_range    0.0  \n",
       "17     msk_joint_range    NaN  \n",
       "18  msk_load_tolerance    0.0  \n",
       "19  msk_load_tolerance    NaN  \n",
       "20               sleep    0.0  \n",
       "21               sleep    NaN  \n",
       "22            soreness    0.0  \n",
       "23            soreness    NaN  "
      ]
     },
     "execution_count": 6,
     "metadata": {},
     "output_type": "execute_result"
    }
   ],
   "source": [
    "recovery_status_data.head(24)"
   ]
  },
  {
   "cell_type": "code",
   "execution_count": 14,
   "id": "2c5e287c",
   "metadata": {},
   "outputs": [
    {
     "data": {
      "text/plain": [
       "13"
      ]
     },
     "execution_count": 14,
     "metadata": {},
     "output_type": "execute_result"
    }
   ],
   "source": [
    "recovery_status_data['sessionDate'].value_counts().min()"
   ]
  },
  {
   "cell_type": "code",
   "execution_count": 10,
   "id": "f6ca33fe",
   "metadata": {},
   "outputs": [
    {
     "data": {
      "text/plain": [
       "13"
      ]
     },
     "execution_count": 10,
     "metadata": {},
     "output_type": "execute_result"
    }
   ],
   "source": [
    "recovery_status_data['sessionDate'].value_counts().max()"
   ]
  },
  {
   "cell_type": "code",
   "execution_count": 15,
   "id": "268dce12",
   "metadata": {},
   "outputs": [
    {
     "data": {
      "text/html": [
       "<div>\n",
       "<style scoped>\n",
       "    .dataframe tbody tr th:only-of-type {\n",
       "        vertical-align: middle;\n",
       "    }\n",
       "\n",
       "    .dataframe tbody tr th {\n",
       "        vertical-align: top;\n",
       "    }\n",
       "\n",
       "    .dataframe thead th {\n",
       "        text-align: right;\n",
       "    }\n",
       "</style>\n",
       "<table border=\"1\" class=\"dataframe\">\n",
       "  <thead>\n",
       "    <tr style=\"text-align: right;\">\n",
       "      <th></th>\n",
       "      <th>sessionDate</th>\n",
       "      <th>seasonName</th>\n",
       "      <th>metric</th>\n",
       "      <th>category</th>\n",
       "      <th>value</th>\n",
       "    </tr>\n",
       "  </thead>\n",
       "  <tbody>\n",
       "    <tr>\n",
       "      <th>8049</th>\n",
       "      <td>12/03/2025</td>\n",
       "      <td>2024/2025</td>\n",
       "      <td>emboss_baseline_score</td>\n",
       "      <td>total</td>\n",
       "      <td>-0.012167</td>\n",
       "    </tr>\n",
       "    <tr>\n",
       "      <th>8050</th>\n",
       "      <td>12/03/2025</td>\n",
       "      <td>2024/2025</td>\n",
       "      <td>msk_joint_range_baseline_completeness</td>\n",
       "      <td>msk_joint_range</td>\n",
       "      <td>0.000000</td>\n",
       "    </tr>\n",
       "    <tr>\n",
       "      <th>8051</th>\n",
       "      <td>12/03/2025</td>\n",
       "      <td>2024/2025</td>\n",
       "      <td>msk_joint_range_baseline_composite</td>\n",
       "      <td>msk_joint_range</td>\n",
       "      <td>NaN</td>\n",
       "    </tr>\n",
       "    <tr>\n",
       "      <th>8052</th>\n",
       "      <td>12/03/2025</td>\n",
       "      <td>2024/2025</td>\n",
       "      <td>msk_load_tolerance_baseline_completeness</td>\n",
       "      <td>msk_load_tolerance</td>\n",
       "      <td>0.000000</td>\n",
       "    </tr>\n",
       "    <tr>\n",
       "      <th>8053</th>\n",
       "      <td>12/03/2025</td>\n",
       "      <td>2024/2025</td>\n",
       "      <td>msk_load_tolerance_baseline_composite</td>\n",
       "      <td>msk_load_tolerance</td>\n",
       "      <td>NaN</td>\n",
       "    </tr>\n",
       "    <tr>\n",
       "      <th>8054</th>\n",
       "      <td>12/03/2025</td>\n",
       "      <td>2024/2025</td>\n",
       "      <td>sleep_baseline_completeness</td>\n",
       "      <td>sleep</td>\n",
       "      <td>0.806452</td>\n",
       "    </tr>\n",
       "    <tr>\n",
       "      <th>8055</th>\n",
       "      <td>12/03/2025</td>\n",
       "      <td>2024/2025</td>\n",
       "      <td>sleep_baseline_composite</td>\n",
       "      <td>sleep</td>\n",
       "      <td>-0.020800</td>\n",
       "    </tr>\n",
       "    <tr>\n",
       "      <th>8056</th>\n",
       "      <td>12/03/2025</td>\n",
       "      <td>2024/2025</td>\n",
       "      <td>soreness_baseline_completeness</td>\n",
       "      <td>soreness</td>\n",
       "      <td>0.048387</td>\n",
       "    </tr>\n",
       "    <tr>\n",
       "      <th>8057</th>\n",
       "      <td>12/03/2025</td>\n",
       "      <td>2024/2025</td>\n",
       "      <td>soreness_baseline_composite</td>\n",
       "      <td>soreness</td>\n",
       "      <td>-0.100000</td>\n",
       "    </tr>\n",
       "    <tr>\n",
       "      <th>8058</th>\n",
       "      <td>12/03/2025</td>\n",
       "      <td>2024/2025</td>\n",
       "      <td>subjective_baseline_completeness</td>\n",
       "      <td>subjective</td>\n",
       "      <td>0.806452</td>\n",
       "    </tr>\n",
       "    <tr>\n",
       "      <th>8059</th>\n",
       "      <td>12/03/2025</td>\n",
       "      <td>2024/2025</td>\n",
       "      <td>subjective_baseline_composite</td>\n",
       "      <td>subjective</td>\n",
       "      <td>-0.006133</td>\n",
       "    </tr>\n",
       "    <tr>\n",
       "      <th>8060</th>\n",
       "      <td>13/03/2025</td>\n",
       "      <td>2024/2025</td>\n",
       "      <td>bio_baseline_completeness</td>\n",
       "      <td>bio</td>\n",
       "      <td>0.000000</td>\n",
       "    </tr>\n",
       "    <tr>\n",
       "      <th>8061</th>\n",
       "      <td>13/03/2025</td>\n",
       "      <td>2024/2025</td>\n",
       "      <td>bio_baseline_composite</td>\n",
       "      <td>bio</td>\n",
       "      <td>NaN</td>\n",
       "    </tr>\n",
       "    <tr>\n",
       "      <th>8062</th>\n",
       "      <td>13/03/2025</td>\n",
       "      <td>2024/2025</td>\n",
       "      <td>emboss_baseline_score</td>\n",
       "      <td>total</td>\n",
       "      <td>-0.098958</td>\n",
       "    </tr>\n",
       "    <tr>\n",
       "      <th>8063</th>\n",
       "      <td>13/03/2025</td>\n",
       "      <td>2024/2025</td>\n",
       "      <td>msk_joint_range_baseline_completeness</td>\n",
       "      <td>msk_joint_range</td>\n",
       "      <td>0.000000</td>\n",
       "    </tr>\n",
       "    <tr>\n",
       "      <th>8064</th>\n",
       "      <td>13/03/2025</td>\n",
       "      <td>2024/2025</td>\n",
       "      <td>msk_joint_range_baseline_composite</td>\n",
       "      <td>msk_joint_range</td>\n",
       "      <td>NaN</td>\n",
       "    </tr>\n",
       "    <tr>\n",
       "      <th>8065</th>\n",
       "      <td>13/03/2025</td>\n",
       "      <td>2024/2025</td>\n",
       "      <td>msk_load_tolerance_baseline_completeness</td>\n",
       "      <td>msk_load_tolerance</td>\n",
       "      <td>0.000000</td>\n",
       "    </tr>\n",
       "    <tr>\n",
       "      <th>8066</th>\n",
       "      <td>13/03/2025</td>\n",
       "      <td>2024/2025</td>\n",
       "      <td>msk_load_tolerance_baseline_composite</td>\n",
       "      <td>msk_load_tolerance</td>\n",
       "      <td>NaN</td>\n",
       "    </tr>\n",
       "    <tr>\n",
       "      <th>8067</th>\n",
       "      <td>13/03/2025</td>\n",
       "      <td>2024/2025</td>\n",
       "      <td>sleep_baseline_completeness</td>\n",
       "      <td>sleep</td>\n",
       "      <td>0.129032</td>\n",
       "    </tr>\n",
       "    <tr>\n",
       "      <th>8068</th>\n",
       "      <td>13/03/2025</td>\n",
       "      <td>2024/2025</td>\n",
       "      <td>sleep_baseline_composite</td>\n",
       "      <td>sleep</td>\n",
       "      <td>-0.232500</td>\n",
       "    </tr>\n",
       "    <tr>\n",
       "      <th>8069</th>\n",
       "      <td>13/03/2025</td>\n",
       "      <td>2024/2025</td>\n",
       "      <td>soreness_baseline_completeness</td>\n",
       "      <td>soreness</td>\n",
       "      <td>0.000000</td>\n",
       "    </tr>\n",
       "    <tr>\n",
       "      <th>8070</th>\n",
       "      <td>13/03/2025</td>\n",
       "      <td>2024/2025</td>\n",
       "      <td>soreness_baseline_composite</td>\n",
       "      <td>soreness</td>\n",
       "      <td>NaN</td>\n",
       "    </tr>\n",
       "    <tr>\n",
       "      <th>8071</th>\n",
       "      <td>13/03/2025</td>\n",
       "      <td>2024/2025</td>\n",
       "      <td>subjective_baseline_completeness</td>\n",
       "      <td>subjective</td>\n",
       "      <td>0.129032</td>\n",
       "    </tr>\n",
       "    <tr>\n",
       "      <th>8072</th>\n",
       "      <td>13/03/2025</td>\n",
       "      <td>2024/2025</td>\n",
       "      <td>subjective_baseline_composite</td>\n",
       "      <td>subjective</td>\n",
       "      <td>-0.081667</td>\n",
       "    </tr>\n",
       "  </tbody>\n",
       "</table>\n",
       "</div>"
      ],
      "text/plain": [
       "     sessionDate seasonName                                    metric  \\\n",
       "8049  12/03/2025  2024/2025                     emboss_baseline_score   \n",
       "8050  12/03/2025  2024/2025     msk_joint_range_baseline_completeness   \n",
       "8051  12/03/2025  2024/2025        msk_joint_range_baseline_composite   \n",
       "8052  12/03/2025  2024/2025  msk_load_tolerance_baseline_completeness   \n",
       "8053  12/03/2025  2024/2025     msk_load_tolerance_baseline_composite   \n",
       "8054  12/03/2025  2024/2025               sleep_baseline_completeness   \n",
       "8055  12/03/2025  2024/2025                  sleep_baseline_composite   \n",
       "8056  12/03/2025  2024/2025            soreness_baseline_completeness   \n",
       "8057  12/03/2025  2024/2025               soreness_baseline_composite   \n",
       "8058  12/03/2025  2024/2025          subjective_baseline_completeness   \n",
       "8059  12/03/2025  2024/2025             subjective_baseline_composite   \n",
       "8060  13/03/2025  2024/2025                 bio_baseline_completeness   \n",
       "8061  13/03/2025  2024/2025                    bio_baseline_composite   \n",
       "8062  13/03/2025  2024/2025                     emboss_baseline_score   \n",
       "8063  13/03/2025  2024/2025     msk_joint_range_baseline_completeness   \n",
       "8064  13/03/2025  2024/2025        msk_joint_range_baseline_composite   \n",
       "8065  13/03/2025  2024/2025  msk_load_tolerance_baseline_completeness   \n",
       "8066  13/03/2025  2024/2025     msk_load_tolerance_baseline_composite   \n",
       "8067  13/03/2025  2024/2025               sleep_baseline_completeness   \n",
       "8068  13/03/2025  2024/2025                  sleep_baseline_composite   \n",
       "8069  13/03/2025  2024/2025            soreness_baseline_completeness   \n",
       "8070  13/03/2025  2024/2025               soreness_baseline_composite   \n",
       "8071  13/03/2025  2024/2025          subjective_baseline_completeness   \n",
       "8072  13/03/2025  2024/2025             subjective_baseline_composite   \n",
       "\n",
       "                category     value  \n",
       "8049               total -0.012167  \n",
       "8050     msk_joint_range  0.000000  \n",
       "8051     msk_joint_range       NaN  \n",
       "8052  msk_load_tolerance  0.000000  \n",
       "8053  msk_load_tolerance       NaN  \n",
       "8054               sleep  0.806452  \n",
       "8055               sleep -0.020800  \n",
       "8056            soreness  0.048387  \n",
       "8057            soreness -0.100000  \n",
       "8058          subjective  0.806452  \n",
       "8059          subjective -0.006133  \n",
       "8060                 bio  0.000000  \n",
       "8061                 bio       NaN  \n",
       "8062               total -0.098958  \n",
       "8063     msk_joint_range  0.000000  \n",
       "8064     msk_joint_range       NaN  \n",
       "8065  msk_load_tolerance  0.000000  \n",
       "8066  msk_load_tolerance       NaN  \n",
       "8067               sleep  0.129032  \n",
       "8068               sleep -0.232500  \n",
       "8069            soreness  0.000000  \n",
       "8070            soreness       NaN  \n",
       "8071          subjective  0.129032  \n",
       "8072          subjective -0.081667  "
      ]
     },
     "execution_count": 15,
     "metadata": {},
     "output_type": "execute_result"
    }
   ],
   "source": [
    "recovery_status_data.tail(24)"
   ]
  },
  {
   "cell_type": "code",
   "execution_count": 24,
   "id": "2f5e154b",
   "metadata": {},
   "outputs": [
    {
     "name": "stdout",
     "output_type": "stream",
     "text": [
      "<class 'pandas.core.frame.DataFrame'>\n",
      "RangeIndex: 8073 entries, 0 to 8072\n",
      "Data columns (total 5 columns):\n",
      " #   Column       Non-Null Count  Dtype         \n",
      "---  ------       --------------  -----         \n",
      " 0   sessionDate  8073 non-null   datetime64[ns]\n",
      " 1   seasonName   8073 non-null   object        \n",
      " 2   metric       8073 non-null   object        \n",
      " 3   category     8073 non-null   object        \n",
      " 4   value        5261 non-null   float64       \n",
      "dtypes: datetime64[ns](1), float64(1), object(3)\n",
      "memory usage: 315.5+ KB\n"
     ]
    }
   ],
   "source": [
    "recovery_status_data.info()"
   ]
  },
  {
   "cell_type": "markdown",
   "id": "12b40019",
   "metadata": {},
   "source": [
    "<a id='1.2'></a>\n",
    "### Part 1.2 - Dealing with Duplicates"
   ]
  },
  {
   "cell_type": "markdown",
   "id": "8e53ec26",
   "metadata": {},
   "source": [
    "We checked if there were any duplicate rows. We found there were no duplicate rows."
   ]
  },
  {
   "cell_type": "code",
   "execution_count": 16,
   "id": "af198fb5",
   "metadata": {},
   "outputs": [
    {
     "data": {
      "text/plain": [
       "False"
      ]
     },
     "execution_count": 16,
     "metadata": {},
     "output_type": "execute_result"
    }
   ],
   "source": [
    "recovery_status_data.duplicated().any()"
   ]
  },
  {
   "cell_type": "code",
   "execution_count": 17,
   "id": "18f85e6d",
   "metadata": {},
   "outputs": [
    {
     "data": {
      "text/plain": [
       "0"
      ]
     },
     "execution_count": 17,
     "metadata": {},
     "output_type": "execute_result"
    }
   ],
   "source": [
    "# Another check for duplicates - just in case\n",
    "recovery_status_data.duplicated().sum()"
   ]
  },
  {
   "cell_type": "markdown",
   "id": "28ebdb24",
   "metadata": {},
   "source": [
    "<a id='1.3'></a>\n",
    "### Part 1.3 - Ensuring Correct Data Types"
   ]
  },
  {
   "cell_type": "markdown",
   "id": "9bf9788d",
   "metadata": {},
   "source": [
    "Next, we proceeded to ensure whether the data types of all columns were correct/adequate"
   ]
  },
  {
   "cell_type": "code",
   "execution_count": 21,
   "id": "d39a3759",
   "metadata": {},
   "outputs": [
    {
     "data": {
      "text/plain": [
       "sessionDate    datetime64[ns]\n",
       "seasonName             object\n",
       "metric                 object\n",
       "category               object\n",
       "value                 float64\n",
       "dtype: object"
      ]
     },
     "execution_count": 21,
     "metadata": {},
     "output_type": "execute_result"
    }
   ],
   "source": [
    "recovery_status_data.dtypes"
   ]
  },
  {
   "cell_type": "markdown",
   "id": "75df8874",
   "metadata": {},
   "source": [
    "Given the only column with the incorrect data type was the 'sessionDate' (i.e., date) column, we proceeded to transform it to the correct format --> datetime format"
   ]
  },
  {
   "cell_type": "code",
   "execution_count": 20,
   "id": "4d90e588",
   "metadata": {},
   "outputs": [],
   "source": [
    "# Transforming the columns into the correct data type\n",
    "\n",
    "## Transforming the sessionDate column into datetime format\n",
    "recovery_status_data['sessionDate'] = pd.to_datetime(recovery_status_data['sessionDate'], format = '%d/%m/%Y')"
   ]
  },
  {
   "cell_type": "markdown",
   "id": "65f12c96",
   "metadata": {},
   "source": [
    "<a id='1.4'></a>\n",
    "### Part 1.4 - Dealing with Null/Missing Values"
   ]
  },
  {
   "cell_type": "markdown",
   "id": "04f4ff00",
   "metadata": {},
   "source": [
    "There are approximately 2800 null values in the `value`column, which represents nearly 35% of all values. Null values means that the data was not collected for that metric on that day. "
   ]
  },
  {
   "cell_type": "code",
   "execution_count": 23,
   "id": "a6fc155b",
   "metadata": {},
   "outputs": [
    {
     "data": {
      "text/plain": [
       "sessionDate       0\n",
       "seasonName        0\n",
       "metric            0\n",
       "category          0\n",
       "value          2812\n",
       "dtype: int64"
      ]
     },
     "execution_count": 23,
     "metadata": {},
     "output_type": "execute_result"
    }
   ],
   "source": [
    "recovery_status_data.isna().sum()"
   ]
  },
  {
   "cell_type": "code",
   "execution_count": 30,
   "id": "6e6712a8",
   "metadata": {},
   "outputs": [
    {
     "data": {
      "text/plain": [
       "sessionDate     0.000000\n",
       "seasonName      0.000000\n",
       "metric          0.000000\n",
       "category        0.000000\n",
       "value          34.832157\n",
       "dtype: float64"
      ]
     },
     "execution_count": 30,
     "metadata": {},
     "output_type": "execute_result"
    }
   ],
   "source": [
    "(recovery_status_data.isna().sum() / len(recovery_status_data)) * 100"
   ]
  },
  {
   "cell_type": "code",
   "execution_count": null,
   "id": "44750117",
   "metadata": {},
   "outputs": [
    {
     "data": {
      "text/plain": [
       "250"
      ]
     },
     "execution_count": 43,
     "metadata": {},
     "output_type": "execute_result"
    }
   ],
   "source": [
    "#want just rows with the overall recovery score\n",
    "emboss = recovery_status_data[recovery_status_data['metric'] == 'emboss_baseline_score']\n",
    "emboss['value'].isna().sum()\n",
    "#There are about 250 rows without the total recovery score.\n",
    "#Not sure what to do with this? if just to drop it or to keep it and impute using the values from the day before"
   ]
  },
  {
   "cell_type": "markdown",
   "id": "43b3ee6d",
   "metadata": {},
   "source": [
    "<a id='1.5'></a>\n",
    "### Part 1.5 - Final Checks"
   ]
  },
  {
   "cell_type": "markdown",
   "id": "1a2196ce",
   "metadata": {},
   "source": [
    "<a id='2'></a>\n",
    "## Part 2 - Exploratory Data Analysis"
   ]
  }
 ],
 "metadata": {
  "kernelspec": {
   "display_name": "thomas_env",
   "language": "python",
   "name": "python3"
  },
  "language_info": {
   "codemirror_mode": {
    "name": "ipython",
    "version": 3
   },
   "file_extension": ".py",
   "mimetype": "text/x-python",
   "name": "python",
   "nbconvert_exporter": "python",
   "pygments_lexer": "ipython3",
   "version": "3.12.9"
  }
 },
 "nbformat": 4,
 "nbformat_minor": 5
}
