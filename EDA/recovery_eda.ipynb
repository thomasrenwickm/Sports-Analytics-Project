{
 "cells": [
  {
   "cell_type": "markdown",
   "id": "7d568818",
   "metadata": {},
   "source": [
    "# **Recovery Status Data - Exploratory Data Analysis**"
   ]
  },
  {
   "cell_type": "markdown",
   "id": "9cd7a8e1",
   "metadata": {},
   "source": [
    "*Recovery status is measured using several tests and metrics to inform recovery strategies throughout the season.\n",
    "This dataset contains simulated data for 1 player.*"
   ]
  },
  {
   "cell_type": "markdown",
   "id": "f5af9c27",
   "metadata": {},
   "source": [
    "This notebook is organized in the following sections:\n",
    "\n",
    "* [Part 0 - Preliminary Steps](#0)\n",
    "    * [Part 0.1 - Importing the Necessary Libraries](#0.1)\n",
    "    * [Part 0.2 - Reading the Recovery Status Data Dataset](#0.2)\n",
    "\n",
    "* [Part 1 - Data Cleaning](#1)\n",
    "    * [Part 1.1 - Preliminary Analysis of the Dataset](#1.1)\n",
    "    * [Part 1.2 - Dealing with Duplicates](#1.2)\n",
    "    * [Part 1.3 - Ensuring Correct Data Types](#1.3)\n",
    "    * [Part 1.4 - Dealing with Null/Missing Values](#1.4)\n",
    "    * [Part 1.5 - Creating New Columns to Enhance the Analysis](#1.5)\n",
    "    * [Part 1.6 - Final Checks](#1.6)\n",
    "\n",
    "* [Part 2 - Exploratory Data Analysis](#2)"
   ]
  },
  {
   "cell_type": "markdown",
   "id": "574b9006",
   "metadata": {},
   "source": [
    "<a id='0'></a>\n",
    "## Part 0 - Preliminary Steps"
   ]
  },
  {
   "cell_type": "markdown",
   "id": "0012923f",
   "metadata": {},
   "source": [
    "<a id='0.1'></a>\n",
    "### Part 0.1 - Importing the Necessary Libraries"
   ]
  },
  {
   "cell_type": "code",
   "execution_count": null,
   "id": "645ae9cd",
   "metadata": {},
   "outputs": [],
   "source": [
    "import pandas as pd"
   ]
  },
  {
   "cell_type": "markdown",
   "id": "c4568901",
   "metadata": {},
   "source": [
    "<a id='0.2'></a>\n",
    "### Part 0.2 - Reading the Recovery Status Data Dataset"
   ]
  },
  {
   "cell_type": "code",
   "execution_count": null,
   "id": "b3589dfc",
   "metadata": {},
   "outputs": [],
   "source": [
    "recovery_status_data = pd.read_csv('../data/CFC Recovery status Data (1).csv')"
   ]
  },
  {
   "cell_type": "markdown",
   "id": "74f1bbe7",
   "metadata": {},
   "source": [
    "<a id='1'></a>\n",
    "## Part 1 - Data Cleaning"
   ]
  },
  {
   "cell_type": "markdown",
   "id": "1932f78e",
   "metadata": {},
   "source": [
    "<a id='1.1'></a>\n",
    "### Part 1.1 - Preliminary Analysis of the Dataset"
   ]
  },
  {
   "cell_type": "code",
   "execution_count": null,
   "id": "0c5b0dbd",
   "metadata": {},
   "outputs": [],
   "source": [
    "recovery_status_data.head()"
   ]
  },
  {
   "cell_type": "code",
   "execution_count": null,
   "id": "268dce12",
   "metadata": {},
   "outputs": [],
   "source": [
    "recovery_status_data.tail()"
   ]
  },
  {
   "cell_type": "code",
   "execution_count": null,
   "id": "2f5e154b",
   "metadata": {},
   "outputs": [],
   "source": [
    "recovery_status_data.info()"
   ]
  },
  {
   "cell_type": "markdown",
   "id": "12b40019",
   "metadata": {},
   "source": [
    "<a id='1.2'></a>\n",
    "### Part 1.2 - Dealing with Duplicates"
   ]
  },
  {
   "cell_type": "markdown",
   "id": "28ebdb24",
   "metadata": {},
   "source": [
    "<a id='1.3'></a>\n",
    "### Part 1.3 - Ensuring Correct Data Types"
   ]
  },
  {
   "cell_type": "markdown",
   "id": "65f12c96",
   "metadata": {},
   "source": [
    "<a id='1.4'></a>\n",
    "### Part 1.4 - Dealing with Null/Missing Values"
   ]
  },
  {
   "cell_type": "markdown",
   "id": "f54fd31d",
   "metadata": {},
   "source": [
    "<a id='1.5'></a>\n",
    "### Part 1.5 - Creating New Columns to Enhance the Analysis"
   ]
  },
  {
   "cell_type": "markdown",
   "id": "43b3ee6d",
   "metadata": {},
   "source": [
    "<a id='1.6'></a>\n",
    "### Part 1.6 - Final Checks"
   ]
  },
  {
   "cell_type": "markdown",
   "id": "1a2196ce",
   "metadata": {},
   "source": [
    "<a id='2'></a>\n",
    "## Part 2 - Exploratory Data Analysis"
   ]
  }
 ],
 "metadata": {
  "kernelspec": {
   "display_name": "thomas_env",
   "language": "python",
   "name": "python3"
  },
  "language_info": {
   "codemirror_mode": {
    "name": "ipython",
    "version": 3
   },
   "file_extension": ".py",
   "mimetype": "text/x-python",
   "name": "python",
   "nbconvert_exporter": "python",
   "pygments_lexer": "ipython3",
   "version": "3.12.9"
  }
 },
 "nbformat": 4,
 "nbformat_minor": 5
}
