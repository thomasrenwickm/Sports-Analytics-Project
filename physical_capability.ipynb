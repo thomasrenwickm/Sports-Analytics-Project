{
 "cells": [
  {
   "cell_type": "markdown",
   "id": "73f11587",
   "metadata": {},
   "source": [
    "## Physical Capability Data"
   ]
  },
  {
   "cell_type": "code",
   "execution_count": 1,
   "id": "1beadb47",
   "metadata": {},
   "outputs": [],
   "source": [
    "import pandas as pd"
   ]
  },
  {
   "cell_type": "code",
   "execution_count": 2,
   "id": "a988fb67",
   "metadata": {},
   "outputs": [],
   "source": [
    "physical_capability_data = pd.read_csv('data/CFC Physical Capability Data_ (1).csv')"
   ]
  },
  {
   "cell_type": "code",
   "execution_count": null,
   "id": "602f7d2f",
   "metadata": {},
   "outputs": [],
   "source": [
    "physical_capability_data.head()"
   ]
  },
  {
   "cell_type": "code",
   "execution_count": null,
   "id": "bee49196",
   "metadata": {},
   "outputs": [],
   "source": [
    "physical_capability_data.tail()"
   ]
  }
 ],
 "metadata": {
  "kernelspec": {
   "display_name": "thomas_env",
   "language": "python",
   "name": "python3"
  },
  "language_info": {
   "codemirror_mode": {
    "name": "ipython",
    "version": 3
   },
   "file_extension": ".py",
   "mimetype": "text/x-python",
   "name": "python",
   "nbconvert_exporter": "python",
   "pygments_lexer": "ipython3",
   "version": "3.12.9"
  }
 },
 "nbformat": 4,
 "nbformat_minor": 5
}
