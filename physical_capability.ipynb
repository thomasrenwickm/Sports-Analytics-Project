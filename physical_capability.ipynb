{
 "cells": [
  {
   "cell_type": "markdown",
   "id": "73f11587",
   "metadata": {},
   "source": [
    "# **Physical Capability Data - Exploratory Data Analysis**"
   ]
  },
  {
   "cell_type": "markdown",
   "id": "6a6420c2",
   "metadata": {},
   "source": [
    "*Physical Capability is measured using a battery of tests which measure different qualities and expressions of force.\n",
    "The dataset provided contains the longitudinal data for 1 player for the past 2+ seasons. The data has been aggregated to the MOVEMENT, QUALITY and EXPRESSION level,\n",
    "so scores are not available for the specific tests and metrics that lie in the layers underneath.\n",
    "Where sufficient data exists, the “BenchmarkPct” value will be available. This is a pre-calculated aggregate expressed as a percentage. There is 1 row per\n",
    "movement/quality/expression per day. If no new data has been recorded on a given day, data from the previous day is carried forward.*"
   ]
  },
  {
   "cell_type": "markdown",
   "id": "3f03525f",
   "metadata": {},
   "source": [
    "This notebook is organized in the following sections:\n",
    "\n",
    "* [Part 0 - Preliminary Steps](#0)\n",
    "    * [Part 0.1 - Importing the Necessary Libraries](#0.1)\n",
    "    * [Part 0.2 - Reading the Physical Capability Data Dataset](#0.2)\n",
    "\n",
    "* [Part 1 - Data Cleaning](#1)\n",
    "    * [Part 1.1 - Preliminary Analysis of the Dataset](#1.1)\n",
    "    * [Part 1.2 - Dealing with Duplicates](#1.2)\n",
    "    * [Part 1.3 - Ensuring Correct Data Types](#1.3)\n",
    "    * [Part 1.4 - Dealing with Null/Missing Values](#1.4)\n",
    "    * [Part 1.5 - Creating New Columns to Enhance the Analysis](#1.5)\n",
    "    * [Part 1.6 - Final Checks](#1.6)\n",
    "\n",
    "* [Part 2 - Exploratory Data Analysis](#2)"
   ]
  },
  {
   "cell_type": "markdown",
   "id": "2d7587bc",
   "metadata": {},
   "source": [
    "<a id='0'></a>\n",
    "## Part 0 - Preliminary Steps"
   ]
  },
  {
   "cell_type": "markdown",
   "id": "20c971af",
   "metadata": {},
   "source": [
    "<a id='0.1'></a>\n",
    "### Part 0.1 - Importing the Necessary Libraries"
   ]
  },
  {
   "cell_type": "code",
   "execution_count": 1,
   "id": "1beadb47",
   "metadata": {},
   "outputs": [],
   "source": [
    "import pandas as pd"
   ]
  },
  {
   "cell_type": "markdown",
   "id": "7ce1c17e",
   "metadata": {},
   "source": [
    "<a id='0.2'></a>\n",
    "### Part 0.2 - Reading the Physical Capability Data Dataset"
   ]
  },
  {
   "cell_type": "code",
   "execution_count": 2,
   "id": "a988fb67",
   "metadata": {},
   "outputs": [],
   "source": [
    "physical_capability_data = pd.read_csv('data/CFC Physical Capability Data_ (1).csv')"
   ]
  },
  {
   "cell_type": "markdown",
   "id": "db1402f7",
   "metadata": {},
   "source": [
    "<a id='1'></a>\n",
    "## Part 1 - Data Cleaning"
   ]
  },
  {
   "cell_type": "markdown",
   "id": "1bddbf67",
   "metadata": {},
   "source": [
    "<a id='1.1'></a>\n",
    "### Part 1.1 - Preliminary Analysis of the Dataset"
   ]
  },
  {
   "cell_type": "code",
   "execution_count": null,
   "id": "602f7d2f",
   "metadata": {},
   "outputs": [],
   "source": [
    "physical_capability_data.head()"
   ]
  },
  {
   "cell_type": "code",
   "execution_count": null,
   "id": "bee49196",
   "metadata": {},
   "outputs": [],
   "source": [
    "physical_capability_data.tail()"
   ]
  },
  {
   "cell_type": "code",
   "execution_count": null,
   "id": "da290635",
   "metadata": {},
   "outputs": [],
   "source": [
    "physical_capability_data.info()"
   ]
  },
  {
   "cell_type": "markdown",
   "id": "32d86c35",
   "metadata": {},
   "source": [
    "<a id='1.2'></a>\n",
    "### Part 1.2 - Dealing with Duplicates"
   ]
  },
  {
   "cell_type": "markdown",
   "id": "2b1a1420",
   "metadata": {},
   "source": [
    "<a id='1.3'></a>\n",
    "### Part 1.3 - Ensuring Correct Data Types"
   ]
  },
  {
   "cell_type": "markdown",
   "id": "7a7bb59e",
   "metadata": {},
   "source": [
    "<a id='1.4'></a>\n",
    "### Part 1.4 - Dealing with Null/Missing Values"
   ]
  },
  {
   "cell_type": "markdown",
   "id": "cbfd07e5",
   "metadata": {},
   "source": [
    "<a id='1.5'></a>\n",
    "### Part 1.5 - Creating New Columns to Enhance the Analysis"
   ]
  },
  {
   "cell_type": "markdown",
   "id": "abe929d6",
   "metadata": {},
   "source": [
    "<a id='1.6'></a>\n",
    "### Part 1.6 - Final Checks"
   ]
  },
  {
   "cell_type": "markdown",
   "id": "3381c5b8",
   "metadata": {},
   "source": [
    "<a id='2'></a>\n",
    "## Part 2 - Exploratory Data Analysis"
   ]
  }
 ],
 "metadata": {
  "kernelspec": {
   "display_name": "thomas_env",
   "language": "python",
   "name": "python3"
  },
  "language_info": {
   "codemirror_mode": {
    "name": "ipython",
    "version": 3
   },
   "file_extension": ".py",
   "mimetype": "text/x-python",
   "name": "python",
   "nbconvert_exporter": "python",
   "pygments_lexer": "ipython3",
   "version": "3.12.9"
  }
 },
 "nbformat": 4,
 "nbformat_minor": 5
}
